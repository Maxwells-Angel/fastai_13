{
 "cells": [
  {
   "cell_type": "markdown",
   "id": "cee4b491-531f-420a-929d-dcfa58bfb0e4",
   "metadata": {},
   "source": [
    "# Warm-up\n",
    "\n",
    "Reminder: the point of this series of notebooks is to build out a stable diffusion AI using only \n",
    "\n",
    "- Python\n",
    "- matplotlib\n",
    "- The Python standard library\n",
    "- Jupyter notebooks and nbdev\n",
    "\n",
    "Ok! First thing's first, I believe we need to make a matrix class. "
   ]
  },
  {
   "cell_type": "code",
   "execution_count": 1,
   "id": "235360f1-57bc-4f43-bab3-abc11e72917b",
   "metadata": {},
   "outputs": [],
   "source": [
    "class Matrix(): \n",
    "    def __init__(self):\n",
    "        pass"
   ]
  },
  {
   "cell_type": "markdown",
   "id": "737bb551-0fbc-4093-be61-2a4e279c37bb",
   "metadata": {},
   "source": [
    "Ok! I made the most useless class in the world and originally I forgot the \"def\" in front of the \\_\\_init__ class. *facepalm* I'm learning. \n",
    "\n",
    "There was more to do here. I created the class because I needed a certain kind of functionality. What was that functionality and what was the dunder function that allowed me to access it? __get__ ? \n",
    "\n",
    "I think I want something like this:\n",
    "\n",
    "For conventional arrays you can index into elements like so: "
   ]
  },
  {
   "cell_type": "code",
   "execution_count": 2,
   "id": "5fbccec5-3a9a-43a1-82c5-2b603296f227",
   "metadata": {},
   "outputs": [
    {
     "data": {
      "text/plain": [
       "2"
      ]
     },
     "execution_count": 2,
     "metadata": {},
     "output_type": "execute_result"
    }
   ],
   "source": [
    "a = [[1,2,3], [4,5,6], [7,8,9]]\n",
    "o = a[0][1]\n",
    "o"
   ]
  },
  {
   "cell_type": "markdown",
   "id": "3ce0933f-041b-4f8c-975a-57f9844320ea",
   "metadata": {},
   "source": [
    "But we want to be able to index into them using tuples, like tensors do "
   ]
  },
  {
   "cell_type": "code",
   "execution_count": 3,
   "id": "75f79a70-13e5-42f7-a68b-e2eb5a927551",
   "metadata": {},
   "outputs": [
    {
     "data": {
      "text/plain": [
       "'undefined'"
      ]
     },
     "execution_count": 3,
     "metadata": {},
     "output_type": "execute_result"
    }
   ],
   "source": [
    "# returns undefined if it doesn't work\n",
    "try: \n",
    "    o = a[0,1]\n",
    "except: \n",
    "    o = 'undefined'\n",
    "o "
   ]
  },
  {
   "cell_type": "code",
   "execution_count": 4,
   "id": "72ba209f-c7c8-4973-91cd-6c1f99a5ede2",
   "metadata": {},
   "outputs": [
    {
     "data": {
      "text/plain": [
       "tensor(2)"
      ]
     },
     "execution_count": 4,
     "metadata": {},
     "output_type": "execute_result"
    }
   ],
   "source": [
    "# example of needed functionality with tensors \n",
    "import torch \n",
    "from torch import tensor\n",
    "tns = tensor(a)\n",
    "o = tns[0,1]\n",
    "o"
   ]
  },
  {
   "cell_type": "markdown",
   "id": "022ddafd-1836-475b-acf1-2ca617e450a7",
   "metadata": {},
   "source": [
    "That's the functionality we need if I'm remembering lessons 10-11 correctly. How do we do this with our matrix class? I'm feeling a little bit stuck, so let's keep experimenting. \n",
    "\n",
    "My first thought is to poke around the matrix class right now and see what it does. Does it need any kind of inheritance? \n",
    "\n",
    "What is the desiderata -- we want to basically transform a tuple into brackets. Not hard. I'm going to take a look back at the original. "
   ]
  },
  {
   "cell_type": "code",
   "execution_count": 5,
   "id": "d68d271b-c077-4308-bf68-c62131b9d2a9",
   "metadata": {},
   "outputs": [],
   "source": [
    "class Matrix:\n",
    "    def __init__(self, xs): self.xs = xs\n",
    "    def __getitem__(self, idxs): return self.xs[idxs[0]][idxs[1]]"
   ]
  },
  {
   "cell_type": "markdown",
   "id": "a9f02bac-d046-4f27-b913-ddb7cbf10710",
   "metadata": {},
   "source": [
    "This is what was written in the original notebook. Can I grok it? \n",
    "\n",
    "It initializes with parameters self, and xs. Type(xs) is not defined. \n",
    "The dunder I was looking for was \"\\_\\_getitem__\". It has parameters self, idxs. It transforms the indexes into the proper form. \n",
    "\n",
    "I'm suprised by how brittle this is. __It'll only work for 2 dim tensors.__ You have to pass a list with exactly two elements. \n",
    "\n",
    "Also, do you need parantheses when you declare the class up top? "
   ]
  },
  {
   "cell_type": "code",
   "execution_count": 6,
   "id": "f081a93e-a67c-408e-9357-ccab91d3ded3",
   "metadata": {},
   "outputs": [],
   "source": [
    "mat = Matrix(a)"
   ]
  },
  {
   "cell_type": "code",
   "execution_count": 7,
   "id": "61a9ec3c-4f8a-43c8-a79b-d52e38be67f7",
   "metadata": {},
   "outputs": [
    {
     "data": {
      "text/plain": [
       "2"
      ]
     },
     "execution_count": 7,
     "metadata": {},
     "output_type": "execute_result"
    }
   ],
   "source": [
    "o_new = mat[0,1]\n",
    "o_new"
   ]
  },
  {
   "cell_type": "markdown",
   "id": "3954a339-38a2-4c38-a9e5-b916aeeed332",
   "metadata": {},
   "source": [
    "It works! On this at least. I want to know more about \\_\\_getitem__\n",
    "\n",
    "Initial description: \\_\\_getitem__ is a magic method that allows instances of a class that uses it to perform indexer operation (i.e. using []). Basically it defines the behavior of code in the pattern \"self[key]\"\n",
    "\n",
    "I'm not quite satisfied with this implementation... however at this point Jeremy moves on to using tensors... so i'll follow him on that for now. "
   ]
  },
  {
   "cell_type": "markdown",
   "id": "898c5f7a-676b-461f-852d-77b4cb23a03c",
   "metadata": {},
   "source": [
    "# Tensors\n"
   ]
  },
  {
   "cell_type": "code",
   "execution_count": 8,
   "id": "dd9ef19f-b4db-42fe-8d59-4671f8705ffd",
   "metadata": {},
   "outputs": [],
   "source": [
    "import torch \n",
    "from torch import tensor"
   ]
  },
  {
   "cell_type": "markdown",
   "id": "3c934ee7-cbb0-4eeb-ab98-e8436de2dbb1",
   "metadata": {},
   "source": [
    "I need to download some libraries and some data to manipulate. We'll be using Mnist. "
   ]
  },
  {
   "cell_type": "code",
   "execution_count": 9,
   "id": "acdb6951-212b-4423-80a3-07ade3a94474",
   "metadata": {},
   "outputs": [],
   "source": [
    "from pathlib import Path\n",
    "import pickle, gzip, math, os, time, shutil, matplotlib as mpl, matplotlib.pyplot as plt"
   ]
  },
  {
   "cell_type": "markdown",
   "id": "1c299873-3207-4044-b311-510759e5b8d3",
   "metadata": {},
   "source": [
    "I'll be honest -- I didn't remember what libraries to import here. Matplotlib should have been obvious, but everything else?? \n",
    "\n",
    "Of these libraries, I'm unfamiliar with **pathlib, pickle, gzip, os, time, and shutil.** I should take a cursory look at each of their documentation."
   ]
  },
  {
   "cell_type": "markdown",
   "id": "f963d82e-49e0-47e1-ba7c-3bdb80f7129e",
   "metadata": {},
   "source": [
    "We're going to use a mixture of gzip and Path pathlib to download the MNIST file from the internet."
   ]
  },
  {
   "cell_type": "code",
   "execution_count": 10,
   "id": "f4e2d2ca-307a-45ed-8788-a4c7a73a15cf",
   "metadata": {},
   "outputs": [],
   "source": [
    "# SET FILE URL \n",
    "MNIST_url = \"https://github.com/mnielsen/neural-networks-and-deep-learning/blob/master/data/mnist.pkl.gz?raw=true\"\n",
    "path_data = Path('data') # what's happening here? \n",
    "path_data.mkdir(exist_ok=True)\n",
    "path_gz = path_data/'mnist.pkl.gz'"
   ]
  },
  {
   "cell_type": "markdown",
   "id": "cea73a00-5cc3-4717-9ead-5cce54793908",
   "metadata": {},
   "source": [
    "I confused about the above code. Here's how I'm parsing it. We're creating a path object \"path_data\", then we change (?) the path into a directory, and then we create a path to data inside the folder.\n",
    "\n",
    "Interestingly it seems you can call a path object like a path. I've never seen that kind of syntax before.\n",
    "\n",
    "```exist_ok = True``` is more straightforward. It tells the computer not to worrk if there is already a directory with that name. \n",
    "\n",
    "So I assume we're doing all this work so that we have a place to **put** the MNIST file once we've downloaded it. We download using the **urllib.request** library"
   ]
  },
  {
   "cell_type": "code",
   "execution_count": 11,
   "id": "08945b40-9c50-4be2-be63-e2ef2a4813f0",
   "metadata": {},
   "outputs": [],
   "source": [
    "from urllib.request import urlretrieve\n",
    "if not path_gz.exists(): urlretrieve(MNIST_URL, path_gz)"
   ]
  },
  {
   "cell_type": "code",
   "execution_count": 12,
   "id": "1e4a75b3-8932-4920-a25f-ab538af2f815",
   "metadata": {},
   "outputs": [
    {
     "name": "stdout",
     "output_type": "stream",
     "text": [
      "total 33312\n",
      "-rw-r--r--  1 kelechinwankwoala  staff  17051982 Apr 10 15:52 mnist.pkl.gz\n"
     ]
    }
   ],
   "source": [
    "!ls -l data"
   ]
  },
  {
   "cell_type": "markdown",
   "id": "b4569751-19c8-4ce1-8a51-60f21eec36f0",
   "metadata": {},
   "source": [
    "Having confirmed that the data is there, we need to seperate (DECONSTRUCT) the data into x_train, y_train, x_valid,y_valid"
   ]
  },
  {
   "cell_type": "code",
   "execution_count": 13,
   "id": "013d6155-a353-46ab-b3fe-48a444bb6cd2",
   "metadata": {},
   "outputs": [],
   "source": [
    "with gzip.open(path_gz, 'rb') as f: \n",
    "    ((x_train, y_train),(x_valid, y_valid),_) = pickle.load(f,  encoding='latin-1')"
   ]
  },
  {
   "cell_type": "markdown",
   "id": "eafee70e-1656-4d3c-a527-ee0282fe37b5",
   "metadata": {},
   "source": [
    "Why did we have to use pickle here? What does pickle do?"
   ]
  },
  {
   "cell_type": "code",
   "execution_count": 14,
   "id": "d3c8c6ae-0b13-4121-bc39-f7d13e458d8d",
   "metadata": {},
   "outputs": [
    {
     "data": {
      "text/plain": [
       "array([0.        , 0.        , 0.        , 0.19140625], dtype=float32)"
      ]
     },
     "execution_count": 14,
     "metadata": {},
     "output_type": "execute_result"
    }
   ],
   "source": [
    "lst1 = x_train[0]\n",
    "lst1 = lst1[200:204]\n",
    "lst1"
   ]
  },
  {
   "cell_type": "markdown",
   "id": "f69f18e6-af9a-42b5-ad47-ad9128c15d8d",
   "metadata": {},
   "source": [
    "There's data in there. "
   ]
  },
  {
   "cell_type": "code",
   "execution_count": 15,
   "id": "e494eada-1f96-4b29-bcc9-b5cb58b2fbd2",
   "metadata": {},
   "outputs": [
    {
     "data": {
      "text/plain": [
       "numpy.ndarray"
      ]
     },
     "execution_count": 15,
     "metadata": {},
     "output_type": "execute_result"
    }
   ],
   "source": [
    "typ = type(x_train[0])\n",
    "typ"
   ]
  },
  {
   "cell_type": "markdown",
   "id": "731c4084-4842-4c86-8fdf-aeab4812e7c7",
   "metadata": {},
   "source": [
    "The data is currently being stored as a numpy array"
   ]
  },
  {
   "cell_type": "code",
   "execution_count": 16,
   "id": "f5baeb1b-3087-4e8e-a96f-e01bcc956a6e",
   "metadata": {},
   "outputs": [
    {
     "data": {
      "text/plain": [
       "784"
      ]
     },
     "execution_count": 16,
     "metadata": {},
     "output_type": "execute_result"
    }
   ],
   "source": [
    "l = len(x_train[0])\n",
    "l"
   ]
  },
  {
   "cell_type": "markdown",
   "id": "f8bd6246-0ebd-463f-8346-cbd839e41959",
   "metadata": {},
   "source": [
    "The length of the array is 784 to represent 28*28 pixels"
   ]
  },
  {
   "cell_type": "code",
   "execution_count": 17,
   "id": "991fe989-3a42-44b1-9765-23c2f21f5009",
   "metadata": {},
   "outputs": [
    {
     "data": {
      "text/plain": [
       "5"
      ]
     },
     "execution_count": 17,
     "metadata": {},
     "output_type": "execute_result"
    }
   ],
   "source": [
    "value = y_train[0]\n",
    "value"
   ]
  },
  {
   "cell_type": "markdown",
   "id": "5f4f739e-d747-4324-a723-c063ee169235",
   "metadata": {},
   "source": [
    "The first item/number in the training dataset is a five"
   ]
  },
  {
   "cell_type": "markdown",
   "id": "d1c2197b-655e-497d-9c2a-59ffe63226e0",
   "metadata": {},
   "source": [
    "# Visualizing the Data\n",
    "\n",
    "The data is actually in the correct format to train on, but we need to make some changes if we want to visualize it. \n",
    "We need to chunk it into pieces of 28. \n",
    "\n",
    "4/22/24 -- Going to skip this part and move on to matrix multiplication. That's the core thing I want to focus on this week anyway. "
   ]
  },
  {
   "cell_type": "code",
   "execution_count": 18,
   "id": "13e5a69c-eaa9-45f9-b385-796b8c0a5d56",
   "metadata": {},
   "outputs": [
    {
     "data": {
      "text/plain": [
       "torch.Size([50000, 784])"
      ]
     },
     "execution_count": 18,
     "metadata": {},
     "output_type": "execute_result"
    }
   ],
   "source": [
    "# Transform the np arrays into tensors\n",
    "\n",
    "x_train,y_train,x_valid, y_valid = map(tensor, (x_train,y_train,x_valid, y_valid))\n",
    "x_train.shape"
   ]
  },
  {
   "cell_type": "code",
   "execution_count": 19,
   "id": "fd6fd320-8683-4bc3-aca0-6042fc3a6012",
   "metadata": {},
   "outputs": [
    {
     "data": {
      "text/plain": [
       "'torch.FloatTensor'"
      ]
     },
     "execution_count": 19,
     "metadata": {},
     "output_type": "execute_result"
    }
   ],
   "source": [
    "x_train.type()"
   ]
  },
  {
   "cell_type": "code",
   "execution_count": 20,
   "id": "85f76878-2fa6-41ac-b49d-efbb394a4cb1",
   "metadata": {},
   "outputs": [],
   "source": [
    "imgs = x_train.reshape(-1,28,28)"
   ]
  },
  {
   "cell_type": "code",
   "execution_count": 21,
   "id": "fee3632e-c024-4308-a49a-70e0712723fc",
   "metadata": {},
   "outputs": [
    {
     "data": {
      "image/png": "[encoded data removed]",
      "text/plain": [
       "<Figure size 640x480 with 1 Axes>"
      ]
     },
     "metadata": {},
     "output_type": "display_data"
    }
   ],
   "source": [
    "mpl.rcParams['image.cmap'] = 'gray'\n",
    "plt.imshow(imgs[0]);"
   ]
  },
  {
   "cell_type": "code",
   "execution_count": 22,
   "id": "01b35d99-bac9-43f6-aef8-fd4c09396f89",
   "metadata": {},
   "outputs": [
    {
     "data": {
      "text/plain": [
       "RcParams({'_internal.classic_mode': False,\n",
       "          'agg.path.chunksize': 0,\n",
       "          'animation.avconv_args': [],\n",
       "          'animation.avconv_path': 'avconv',\n",
       "          'animation.bitrate': -1,\n",
       "          'animation.codec': 'h264',\n",
       "          'animation.convert_args': [],\n",
       "          'animation.convert_path': 'convert',\n",
       "          'animation.embed_limit': 20.0,\n",
       "          'animation.ffmpeg_args': [],\n",
       "          'animation.ffmpeg_path': 'ffmpeg',\n",
       "          'animation.frame_format': 'png',\n",
       "          'animation.html': 'none',\n",
       "          'animation.html_args': [],\n",
       "          'animation.writer': 'ffmpeg',\n",
       "          'axes.autolimit_mode': 'data',\n",
       "          'axes.axisbelow': 'line',\n",
       "          'axes.edgecolor': 'black',\n",
       "          'axes.facecolor': 'white',\n",
       "          'axes.formatter.limits': [-5, 6],\n",
       "          'axes.formatter.min_exponent': 0,\n",
       "          'axes.formatter.offset_threshold': 4,\n",
       "          'axes.formatter.use_locale': False,\n",
       "          'axes.formatter.use_mathtext': False,\n",
       "          'axes.formatter.useoffset': True,\n",
       "          'axes.grid': False,\n",
       "          'axes.grid.axis': 'both',\n",
       "          'axes.grid.which': 'major',\n",
       "          'axes.labelcolor': 'black',\n",
       "          'axes.labelpad': 4.0,\n",
       "          'axes.labelsize': 'medium',\n",
       "          'axes.labelweight': 'normal',\n",
       "          'axes.linewidth': 0.8,\n",
       "          'axes.prop_cycle': cycler('color', ['#1f77b4', '#ff7f0e', '#2ca02c', '#d62728', '#9467bd', '#8c564b', '#e377c2', '#7f7f7f', '#bcbd22', '#17becf']),\n",
       "          'axes.spines.bottom': True,\n",
       "          'axes.spines.left': True,\n",
       "          'axes.spines.right': True,\n",
       "          'axes.spines.top': True,\n",
       "          'axes.titlecolor': 'auto',\n",
       "          'axes.titlelocation': 'center',\n",
       "          'axes.titlepad': 6.0,\n",
       "          'axes.titlesize': 'large',\n",
       "          'axes.titleweight': 'normal',\n",
       "          'axes.titley': None,\n",
       "          'axes.unicode_minus': True,\n",
       "          'axes.xmargin': 0.05,\n",
       "          'axes.ymargin': 0.05,\n",
       "          'axes.zmargin': 0.05,\n",
       "          'axes3d.grid': True,\n",
       "          'backend': 'module://matplotlib_inline.backend_inline',\n",
       "          'backend_fallback': True,\n",
       "          'boxplot.bootstrap': None,\n",
       "          'boxplot.boxprops.color': 'black',\n",
       "          'boxplot.boxprops.linestyle': '-',\n",
       "          'boxplot.boxprops.linewidth': 1.0,\n",
       "          'boxplot.capprops.color': 'black',\n",
       "          'boxplot.capprops.linestyle': '-',\n",
       "          'boxplot.capprops.linewidth': 1.0,\n",
       "          'boxplot.flierprops.color': 'black',\n",
       "          'boxplot.flierprops.linestyle': 'none',\n",
       "          'boxplot.flierprops.linewidth': 1.0,\n",
       "          'boxplot.flierprops.marker': 'o',\n",
       "          'boxplot.flierprops.markeredgecolor': 'black',\n",
       "          'boxplot.flierprops.markeredgewidth': 1.0,\n",
       "          'boxplot.flierprops.markerfacecolor': 'none',\n",
       "          'boxplot.flierprops.markersize': 6.0,\n",
       "          'boxplot.meanline': False,\n",
       "          'boxplot.meanprops.color': 'C2',\n",
       "          'boxplot.meanprops.linestyle': '--',\n",
       "          'boxplot.meanprops.linewidth': 1.0,\n",
       "          'boxplot.meanprops.marker': '^',\n",
       "          'boxplot.meanprops.markeredgecolor': 'C2',\n",
       "          'boxplot.meanprops.markerfacecolor': 'C2',\n",
       "          'boxplot.meanprops.markersize': 6.0,\n",
       "          'boxplot.medianprops.color': 'C1',\n",
       "          'boxplot.medianprops.linestyle': '-',\n",
       "          'boxplot.medianprops.linewidth': 1.0,\n",
       "          'boxplot.notch': False,\n",
       "          'boxplot.patchartist': False,\n",
       "          'boxplot.showbox': True,\n",
       "          'boxplot.showcaps': True,\n",
       "          'boxplot.showfliers': True,\n",
       "          'boxplot.showmeans': False,\n",
       "          'boxplot.vertical': True,\n",
       "          'boxplot.whiskerprops.color': 'black',\n",
       "          'boxplot.whiskerprops.linestyle': '-',\n",
       "          'boxplot.whiskerprops.linewidth': 1.0,\n",
       "          'boxplot.whiskers': 1.5,\n",
       "          'contour.corner_mask': True,\n",
       "          'contour.linewidth': None,\n",
       "          'contour.negative_linestyle': 'dashed',\n",
       "          'date.autoformatter.day': '%Y-%m-%d',\n",
       "          'date.autoformatter.hour': '%m-%d %H',\n",
       "          'date.autoformatter.microsecond': '%M:%S.%f',\n",
       "          'date.autoformatter.minute': '%d %H:%M',\n",
       "          'date.autoformatter.month': '%Y-%m',\n",
       "          'date.autoformatter.second': '%H:%M:%S',\n",
       "          'date.autoformatter.year': '%Y',\n",
       "          'date.converter': None,\n",
       "          'date.epoch': '1970-01-01T00:00:00',\n",
       "          'date.interval_multiples': None,\n",
       "          'docstring.hardcopy': False,\n",
       "          'errorbar.capsize': 0.0,\n",
       "          'figure.autolayout': False,\n",
       "          'figure.constrained_layout.h_pad': 0.04167,\n",
       "          'figure.constrained_layout.hspace': 0.02,\n",
       "          'figure.constrained_layout.use': False,\n",
       "          'figure.constrained_layout.w_pad': 0.04167,\n",
       "          'figure.constrained_layout.wspace': 0.02,\n",
       "          'figure.dpi': 100.0,\n",
       "          'figure.edgecolor': 'white',\n",
       "          'figure.facecolor': 'white',\n",
       "          'figure.figsize': [6.4, 4.8],\n",
       "          'figure.frameon': True,\n",
       "          'figure.max_open_warning': 20,\n",
       "          'figure.raise_window': True,\n",
       "          'figure.subplot.bottom': 0.11,\n",
       "          'figure.subplot.hspace': 0.2,\n",
       "          'figure.subplot.left': 0.125,\n",
       "          'figure.subplot.right': 0.9,\n",
       "          'figure.subplot.top': 0.88,\n",
       "          'figure.subplot.wspace': 0.2,\n",
       "          'figure.titlesize': 'large',\n",
       "          'figure.titleweight': 'normal',\n",
       "          'font.cursive': ['Apple Chancery',\n",
       "                           'Textile',\n",
       "                           'Zapf Chancery',\n",
       "                           'Sand',\n",
       "                           'Script MT',\n",
       "                           'Felipa',\n",
       "                           'Comic Neue',\n",
       "                           'Comic Sans MS',\n",
       "                           'cursive'],\n",
       "          'font.family': ['sans-serif'],\n",
       "          'font.fantasy': ['Chicago',\n",
       "                           'Charcoal',\n",
       "                           'Impact',\n",
       "                           'Western',\n",
       "                           'Humor Sans',\n",
       "                           'xkcd',\n",
       "                           'fantasy'],\n",
       "          'font.monospace': ['DejaVu Sans Mono',\n",
       "                             'Bitstream Vera Sans Mono',\n",
       "                             'Computer Modern Typewriter',\n",
       "                             'Andale Mono',\n",
       "                             'Nimbus Mono L',\n",
       "                             'Courier New',\n",
       "                             'Courier',\n",
       "                             'Fixed',\n",
       "                             'Terminal',\n",
       "                             'monospace'],\n",
       "          'font.sans-serif': ['DejaVu Sans',\n",
       "                              'Bitstream Vera Sans',\n",
       "                              'Computer Modern Sans Serif',\n",
       "                              'Lucida Grande',\n",
       "                              'Verdana',\n",
       "                              'Geneva',\n",
       "                              'Lucid',\n",
       "                              'Arial',\n",
       "                              'Helvetica',\n",
       "                              'Avant Garde',\n",
       "                              'sans-serif'],\n",
       "          'font.serif': ['DejaVu Serif',\n",
       "                         'Bitstream Vera Serif',\n",
       "                         'Computer Modern Roman',\n",
       "                         'New Century Schoolbook',\n",
       "                         'Century Schoolbook L',\n",
       "                         'Utopia',\n",
       "                         'ITC Bookman',\n",
       "                         'Bookman',\n",
       "                         'Nimbus Roman No9 L',\n",
       "                         'Times New Roman',\n",
       "                         'Times',\n",
       "                         'Palatino',\n",
       "                         'Charter',\n",
       "                         'serif'],\n",
       "          'font.size': 10.0,\n",
       "          'font.stretch': 'normal',\n",
       "          'font.style': 'normal',\n",
       "          'font.variant': 'normal',\n",
       "          'font.weight': 'normal',\n",
       "          'grid.alpha': 1.0,\n",
       "          'grid.color': '#b0b0b0',\n",
       "          'grid.linestyle': '-',\n",
       "          'grid.linewidth': 0.8,\n",
       "          'hatch.color': 'black',\n",
       "          'hatch.linewidth': 1.0,\n",
       "          'hist.bins': 10,\n",
       "          'image.aspect': 'equal',\n",
       "          'image.cmap': 'gray',\n",
       "          'image.composite_image': True,\n",
       "          'image.interpolation': 'antialiased',\n",
       "          'image.lut': 256,\n",
       "          'image.origin': 'upper',\n",
       "          'image.resample': True,\n",
       "          'interactive': True,\n",
       "          'keymap.all_axes': ['a'],\n",
       "          'keymap.back': ['left', 'c', 'backspace', 'MouseButton.BACK'],\n",
       "          'keymap.copy': ['ctrl+c', 'cmd+c'],\n",
       "          'keymap.forward': ['right', 'v', 'MouseButton.FORWARD'],\n",
       "          'keymap.fullscreen': ['f', 'ctrl+f'],\n",
       "          'keymap.grid': ['g'],\n",
       "          'keymap.grid_minor': ['G'],\n",
       "          'keymap.help': ['f1'],\n",
       "          'keymap.home': ['h', 'r', 'home'],\n",
       "          'keymap.pan': ['p'],\n",
       "          'keymap.quit': ['ctrl+w', 'cmd+w', 'q'],\n",
       "          'keymap.quit_all': [],\n",
       "          'keymap.save': ['s', 'ctrl+s'],\n",
       "          'keymap.xscale': ['k', 'L'],\n",
       "          'keymap.yscale': ['l'],\n",
       "          'keymap.zoom': ['o'],\n",
       "          'legend.borderaxespad': 0.5,\n",
       "          'legend.borderpad': 0.4,\n",
       "          'legend.columnspacing': 2.0,\n",
       "          'legend.edgecolor': '0.8',\n",
       "          'legend.facecolor': 'inherit',\n",
       "          'legend.fancybox': True,\n",
       "          'legend.fontsize': 'medium',\n",
       "          'legend.framealpha': 0.8,\n",
       "          'legend.frameon': True,\n",
       "          'legend.handleheight': 0.7,\n",
       "          'legend.handlelength': 2.0,\n",
       "          'legend.handletextpad': 0.8,\n",
       "          'legend.labelspacing': 0.5,\n",
       "          'legend.loc': 'best',\n",
       "          'legend.markerscale': 1.0,\n",
       "          'legend.numpoints': 1,\n",
       "          'legend.scatterpoints': 1,\n",
       "          'legend.shadow': False,\n",
       "          'legend.title_fontsize': None,\n",
       "          'lines.antialiased': True,\n",
       "          'lines.color': 'C0',\n",
       "          'lines.dash_capstyle': <CapStyle.butt: 'butt'>,\n",
       "          'lines.dash_joinstyle': <JoinStyle.round: 'round'>,\n",
       "          'lines.dashdot_pattern': [6.4, 1.6, 1.0, 1.6],\n",
       "          'lines.dashed_pattern': [3.7, 1.6],\n",
       "          'lines.dotted_pattern': [1.0, 1.65],\n",
       "          'lines.linestyle': '-',\n",
       "          'lines.linewidth': 1.5,\n",
       "          'lines.marker': 'None',\n",
       "          'lines.markeredgecolor': 'auto',\n",
       "          'lines.markeredgewidth': 1.0,\n",
       "          'lines.markerfacecolor': 'auto',\n",
       "          'lines.markersize': 6.0,\n",
       "          'lines.scale_dashes': True,\n",
       "          'lines.solid_capstyle': <CapStyle.projecting: 'projecting'>,\n",
       "          'lines.solid_joinstyle': <JoinStyle.round: 'round'>,\n",
       "          'markers.fillstyle': 'full',\n",
       "          'mathtext.bf': 'sans:bold',\n",
       "          'mathtext.cal': 'cursive',\n",
       "          'mathtext.default': 'it',\n",
       "          'mathtext.fallback': 'cm',\n",
       "          'mathtext.fallback_to_cm': None,\n",
       "          'mathtext.fontset': 'dejavusans',\n",
       "          'mathtext.it': 'sans:italic',\n",
       "          'mathtext.rm': 'sans',\n",
       "          'mathtext.sf': 'sans',\n",
       "          'mathtext.tt': 'monospace',\n",
       "          'patch.antialiased': True,\n",
       "          'patch.edgecolor': 'black',\n",
       "          'patch.facecolor': 'C0',\n",
       "          'patch.force_edgecolor': False,\n",
       "          'patch.linewidth': 1.0,\n",
       "          'path.effects': [],\n",
       "          'path.simplify': True,\n",
       "          'path.simplify_threshold': 0.111111111111,\n",
       "          'path.sketch': None,\n",
       "          'path.snap': True,\n",
       "          'pcolor.shading': 'flat',\n",
       "          'pcolormesh.snap': True,\n",
       "          'pdf.compression': 6,\n",
       "          'pdf.fonttype': 3,\n",
       "          'pdf.inheritcolor': False,\n",
       "          'pdf.use14corefonts': False,\n",
       "          'pgf.preamble': '',\n",
       "          'pgf.rcfonts': True,\n",
       "          'pgf.texsystem': 'xelatex',\n",
       "          'polaraxes.grid': True,\n",
       "          'ps.distiller.res': 6000,\n",
       "          'ps.fonttype': 3,\n",
       "          'ps.papersize': 'letter',\n",
       "          'ps.useafm': False,\n",
       "          'ps.usedistiller': None,\n",
       "          'savefig.bbox': None,\n",
       "          'savefig.directory': '~',\n",
       "          'savefig.dpi': 'figure',\n",
       "          'savefig.edgecolor': 'auto',\n",
       "          'savefig.facecolor': 'auto',\n",
       "          'savefig.format': 'png',\n",
       "          'savefig.jpeg_quality': 95,\n",
       "          'savefig.orientation': 'portrait',\n",
       "          'savefig.pad_inches': 0.1,\n",
       "          'savefig.transparent': False,\n",
       "          'scatter.edgecolors': 'face',\n",
       "          'scatter.marker': 'o',\n",
       "          'svg.fonttype': 'path',\n",
       "          'svg.hashsalt': None,\n",
       "          'svg.image_inline': True,\n",
       "          'text.antialiased': True,\n",
       "          'text.color': 'black',\n",
       "          'text.hinting': 'force_autohint',\n",
       "          'text.hinting_factor': 8,\n",
       "          'text.kerning_factor': 0,\n",
       "          'text.latex.preamble': '',\n",
       "          'text.latex.preview': False,\n",
       "          'text.usetex': False,\n",
       "          'timezone': 'UTC',\n",
       "          'tk.window_focus': False,\n",
       "          'toolbar': 'toolbar2',\n",
       "          'webagg.address': '127.0.0.1',\n",
       "          'webagg.open_in_browser': True,\n",
       "          'webagg.port': 8988,\n",
       "          'webagg.port_retries': 50,\n",
       "          'xaxis.labellocation': 'center',\n",
       "          'xtick.alignment': 'center',\n",
       "          'xtick.bottom': True,\n",
       "          'xtick.color': 'black',\n",
       "          'xtick.direction': 'out',\n",
       "          'xtick.labelbottom': True,\n",
       "          'xtick.labelcolor': 'inherit',\n",
       "          'xtick.labelsize': 'medium',\n",
       "          'xtick.labeltop': False,\n",
       "          'xtick.major.bottom': True,\n",
       "          'xtick.major.pad': 3.5,\n",
       "          'xtick.major.size': 3.5,\n",
       "          'xtick.major.top': True,\n",
       "          'xtick.major.width': 0.8,\n",
       "          'xtick.minor.bottom': True,\n",
       "          'xtick.minor.pad': 3.4,\n",
       "          'xtick.minor.size': 2.0,\n",
       "          'xtick.minor.top': True,\n",
       "          'xtick.minor.visible': False,\n",
       "          'xtick.minor.width': 0.6,\n",
       "          'xtick.top': False,\n",
       "          'yaxis.labellocation': 'center',\n",
       "          'ytick.alignment': 'center_baseline',\n",
       "          'ytick.color': 'black',\n",
       "          'ytick.direction': 'out',\n",
       "          'ytick.labelcolor': 'inherit',\n",
       "          'ytick.labelleft': True,\n",
       "          'ytick.labelright': False,\n",
       "          'ytick.labelsize': 'medium',\n",
       "          'ytick.left': True,\n",
       "          'ytick.major.left': True,\n",
       "          'ytick.major.pad': 3.5,\n",
       "          'ytick.major.right': True,\n",
       "          'ytick.major.size': 3.5,\n",
       "          'ytick.major.width': 0.8,\n",
       "          'ytick.minor.left': True,\n",
       "          'ytick.minor.pad': 3.4,\n",
       "          'ytick.minor.right': True,\n",
       "          'ytick.minor.size': 2.0,\n",
       "          'ytick.minor.visible': False,\n",
       "          'ytick.minor.width': 0.6,\n",
       "          'ytick.right': False})"
      ]
     },
     "execution_count": 22,
     "metadata": {},
     "output_type": "execute_result"
    }
   ],
   "source": [
    "mpl.rcParams"
   ]
  },
  {
   "cell_type": "markdown",
   "id": "7445557e-6220-455f-83fd-7a48397ad474",
   "metadata": {},
   "source": [
    "# Matrix Multiplication"
   ]
  },
  {
   "cell_type": "code",
   "execution_count": 23,
   "id": "05a619f5-37f4-4e7f-984a-2449ebf460a5",
   "metadata": {},
   "outputs": [],
   "source": [
    "torch.set_printoptions(linewidth = 140, precision =4)"
   ]
  },
  {
   "cell_type": "code",
   "execution_count": 24,
   "id": "ef67a387-2bcc-421b-b25a-3e5a0fb66b22",
   "metadata": {},
   "outputs": [],
   "source": [
    "# let's make up some fake data to work with. \n",
    "\n",
    "# set the manual seed \n",
    "torch.manual_seed(42)\n",
    "\n",
    "# torch.randn creates a torch of argument size with random elements having a mean of 0 and variance of 1\n",
    "# N.B. fix this in your flashcards. I mistakenly thought this function produced random elements between 0 and 1. \n",
    "\n",
    "# choose a size of 784 by 10 to represent 784 inputs and 10 outputs \n",
    "weights = torch.randn(784,10)\n",
    "\n",
    "# 1 rank tensor (vector) filled with ten zeros for the bias\n",
    "bias = torch.zeros(10)"
   ]
  },
  {
   "cell_type": "code",
   "execution_count": 25,
   "id": "4d22fa6a-c011-4ed8-b11a-ef3f021201fd",
   "metadata": {},
   "outputs": [
    {
     "data": {
      "text/plain": [
       "tensor([[ 1.9269,  1.4873,  0.9007,  ..., -1.6047, -0.7521,  1.6487],\n",
       "        [-0.3925, -1.4036, -0.7279,  ..., -0.1596, -0.4974,  0.4396],\n",
       "        [-0.7581,  1.0783,  0.8008,  ...,  1.3347, -0.2316,  0.0418],\n",
       "        ...,\n",
       "        [-0.0560, -0.4547,  1.2942,  ...,  1.1133,  2.1901,  0.3531],\n",
       "        [ 0.4474,  0.7192, -1.9300,  ..., -0.8714,  0.2235,  0.2528],\n",
       "        [ 0.2169,  0.4700,  0.3268,  ...,  0.0470,  0.5487, -1.9951]])"
      ]
     },
     "execution_count": 25,
     "metadata": {},
     "output_type": "execute_result"
    }
   ],
   "source": [
    "weights"
   ]
  },
  {
   "cell_type": "code",
   "execution_count": 26,
   "id": "784abb6c-9247-4f65-82e7-d91bacdb23b1",
   "metadata": {},
   "outputs": [
    {
     "data": {
      "text/plain": [
       "tensor([0., 0., 0., 0., 0., 0., 0., 0., 0., 0.])"
      ]
     },
     "execution_count": 26,
     "metadata": {},
     "output_type": "execute_result"
    }
   ],
   "source": [
    "bias"
   ]
  },
  {
   "cell_type": "code",
   "execution_count": 27,
   "id": "0756431c-7449-43b4-ae1c-1094e4ffe662",
   "metadata": {},
   "outputs": [],
   "source": [
    "m1 = x_train[0:5]"
   ]
  },
  {
   "cell_type": "markdown",
   "id": "efe13cce-37b7-4f09-bac5-adfc2e6d7da8",
   "metadata": {},
   "source": [
    "So, we want to be able to do \n",
    "tns@weights = product. \n",
    "\n",
    "I know, from my studies, that in matrix multiplication every element in the product matrix is the **dot product** of a row in the first matrix and a column in the second matrix. \n",
    "\n",
    "In other words, \n",
    "\n",
    "1. for each row **i** in the first matrix\n",
    "2. for each column **k** in the second matrix \n",
    "4. for each column **j** in the first matrix\n",
    "5. multiply the element (i,j) by (j,k)\n",
    "6. iteratively add products together\n",
    "7. j++\n",
    "8. k++\n",
    "9. i++"
   ]
  },
  {
   "cell_type": "code",
   "execution_count": 28,
   "id": "25d1961f-34e5-4430-81e0-1093518c99fc",
   "metadata": {},
   "outputs": [
    {
     "data": {
      "text/plain": [
       "tensor([[ -4.5013,   8.5536,   5.6343,  -6.6547,   0.4884,  -0.0259, -15.6443,  -1.5296,  14.5242,   9.7703],\n",
       "        [-13.3019,  -3.8749,   4.1859,   7.0026,   2.1013,   6.7690,  -6.7711,  -1.5963,  -0.9764,  12.6805],\n",
       "        [ -6.5032,  -8.1261,   4.2241,  -6.5426, -11.3820,   9.3290, -21.8505,  -0.3382,   0.4698,   8.9912],\n",
       "        [ -8.9549,  22.6746,   0.2045,  10.6220,  -8.8288,   4.8835,  13.1432,   4.6022,  15.2993,   5.9771],\n",
       "        [-19.4157,   5.0400,  -2.1355,  -3.2116, -16.8264,  11.2725,   1.1869,  -0.7417,   7.4023,   7.4249]])"
      ]
     },
     "execution_count": 28,
     "metadata": {},
     "output_type": "execute_result"
    }
   ],
   "source": [
    "# Original Example to Compare To\n",
    "res = m1@weights \n",
    "res"
   ]
  },
  {
   "cell_type": "code",
   "execution_count": 29,
   "id": "1971cb79-8404-4f9d-af65-3ac5adab157a",
   "metadata": {},
   "outputs": [],
   "source": [
    "# now let's look at our implementation\n",
    "def matmul(a,b):\n",
    "    \n",
    "    # deconstruct rows and columns of the two elements\n",
    "    ar, ac = a.shape\n",
    "    br, bc = b.shape\n",
    "\n",
    "    # create a blank tensor of correct size to put values into \n",
    "    prod = torch.zeros((ar,bc))\n",
    "\n",
    "    # loop through tensors to compute dot products\n",
    "    for i in range(ar): \n",
    "        for k in range(bc):\n",
    "            for j in range(ac): \n",
    "                prod[i,k]+= a[i,j]*b[j,k]\n",
    "            \n",
    "    return prod"
   ]
  },
  {
   "cell_type": "code",
   "execution_count": 30,
   "id": "5e56d4b1-3937-46b7-ae9a-923c21180010",
   "metadata": {},
   "outputs": [
    {
     "data": {
      "text/plain": [
       "tensor([[ -4.5013,   8.5536,   5.6343,  -6.6547,   0.4884,  -0.0259, -15.6443,  -1.5296,  14.5242,   9.7703],\n",
       "        [-13.3019,  -3.8749,   4.1859,   7.0026,   2.1013,   6.7690,  -6.7711,  -1.5963,  -0.9764,  12.6805],\n",
       "        [ -6.5032,  -8.1261,   4.2241,  -6.5426, -11.3820,   9.3290, -21.8505,  -0.3382,   0.4698,   8.9912],\n",
       "        [ -8.9549,  22.6746,   0.2045,  10.6220,  -8.8288,   4.8835,  13.1432,   4.6022,  15.2993,   5.9771],\n",
       "        [-19.4157,   5.0400,  -2.1355,  -3.2116, -16.8264,  11.2725,   1.1870,  -0.7417,   7.4023,   7.4249]])"
      ]
     },
     "execution_count": 30,
     "metadata": {},
     "output_type": "execute_result"
    }
   ],
   "source": [
    "res2 = matmul(m1, weights)\n",
    "res2"
   ]
  },
  {
   "cell_type": "code",
   "execution_count": 31,
   "id": "fd37781f-47b6-4d4f-8c65-ca3d94a28e2e",
   "metadata": {},
   "outputs": [
    {
     "name": "stdout",
     "output_type": "stream",
     "text": [
      "not equal\n"
     ]
    }
   ],
   "source": [
    "if torch.equal(res,res2):\n",
    "    print(\"equal\")\n",
    "else: print('not equal')"
   ]
  },
  {
   "cell_type": "code",
   "execution_count": 32,
   "id": "6f2069bd-fa8b-49c3-961f-a027f8ec93e6",
   "metadata": {},
   "outputs": [
    {
     "data": {
      "text/plain": [
       "tensor([[False,  True, False, False, False, False, False, False, False, False],\n",
       "        [False, False, False,  True, False, False, False, False, False, False],\n",
       "        [False, False,  True, False, False, False, False, False, False,  True],\n",
       "        [False, False, False, False, False, False, False, False,  True, False],\n",
       "        [ True, False, False, False, False, False, False, False, False, False]])"
      ]
     },
     "execution_count": 32,
     "metadata": {},
     "output_type": "execute_result"
    }
   ],
   "source": [
    "comp = (res == res2)\n",
    "comp"
   ]
  },
  {
   "cell_type": "markdown",
   "id": "716023cd-3500-448d-97c7-94f6a9de3db8",
   "metadata": {},
   "source": [
    "These *look* the same. Why does this print not equal? **floating point errors**"
   ]
  },
  {
   "cell_type": "code",
   "execution_count": 33,
   "id": "055e1def-b893-4d3a-be87-1c034d8f7236",
   "metadata": {},
   "outputs": [],
   "source": [
    "torch.set_printoptions(precision=7)"
   ]
  },
  {
   "cell_type": "code",
   "execution_count": 34,
   "id": "1d25541d-b84f-429e-91f0-a41a9dc92bea",
   "metadata": {},
   "outputs": [
    {
     "data": {
      "text/plain": [
       "tensor([[ -4.5012999,   8.5535583,   5.6343098,  -6.6547408,   0.4884458,  -0.0259205, -15.6442547,  -1.5295603,  14.5241995,   9.7703285],\n",
       "        [-13.3018723,  -3.8748703,   4.1859426,   7.0025721,   2.1012926,   6.7689848,  -6.7711048,  -1.5963006,  -0.9763577,  12.6805420],\n",
       "        [ -6.5032082,  -8.1260672,   4.2241449,  -6.5425773, -11.3820400,   9.3289852, -21.8505344,  -0.3382134,   0.4697631,   8.9911814],\n",
       "        [ -8.9548664,  22.6745567,   0.2045113,  10.6219511,  -8.8288002,   4.8834972,  13.1432276,   4.6022367,  15.2992592,   5.9771380],\n",
       "        [-19.4157314,   5.0399828,  -2.1354804,  -3.2115545, -16.8263779,  11.2725430,   1.1869495,  -0.7416592,   7.4022536,   7.4249310]])"
      ]
     },
     "execution_count": 34,
     "metadata": {},
     "output_type": "execute_result"
    }
   ],
   "source": [
    "res"
   ]
  },
  {
   "cell_type": "code",
   "execution_count": 35,
   "id": "467f42b6-5a6c-4976-9c79-fa910ac256ea",
   "metadata": {},
   "outputs": [
    {
     "data": {
      "text/plain": [
       "tensor([[ -4.5012994,   8.5535583,   5.6343102,  -6.6547379,   0.4884455,  -0.0259189, -15.6442585,  -1.5295589,  14.5241976,   9.7703266],\n",
       "        [-13.3018637,  -3.8748665,   4.1859431,   7.0025721,   2.1012936,   6.7689834,  -6.7711039,  -1.5962999,  -0.9763576,  12.6805439],\n",
       "        [ -6.5032077,  -8.1260710,   4.2241449,  -6.5425754, -11.3820343,   9.3289824, -21.8505325,  -0.3382136,   0.4697638,   8.9911814],\n",
       "        [ -8.9548655,  22.6745605,   0.2045134,  10.6219521,  -8.8288021,   4.8834968,  13.1432247,   4.6022363,  15.2992592,   5.9771376],\n",
       "        [-19.4157314,   5.0399814,  -2.1354825,  -3.2115531, -16.8263817,  11.2725439,   1.1869512,  -0.7416589,   7.4022532,   7.4249315]])"
      ]
     },
     "execution_count": 35,
     "metadata": {},
     "output_type": "execute_result"
    }
   ],
   "source": [
    "res2"
   ]
  },
  {
   "cell_type": "markdown",
   "id": "5f161252-c862-4986-b7a5-25ba483d19b8",
   "metadata": {},
   "source": [
    "My tensors aren't equal past 5 digits of precision. That can be seen if you change the printing options. \n",
    "\n",
    "Therefore, I should adjust the atol (absolute tolerance) parameter of .allclose() so that it can work at the level I need. My implementation generally looks right though. \n"
   ]
  },
  {
   "cell_type": "code",
   "execution_count": 36,
   "id": "89790ed3-d249-43ff-a56b-4cfa54478ff2",
   "metadata": {},
   "outputs": [
    {
     "name": "stdout",
     "output_type": "stream",
     "text": [
      "equal\n"
     ]
    }
   ],
   "source": [
    "if torch.allclose(res,res2, atol = 1e-2):\n",
    "    print(\"equal\")\n",
    "else: print('not equal')"
   ]
  },
  {
   "cell_type": "markdown",
   "id": "0f900f06-92dd-44c1-b7a9-c71cc17c9254",
   "metadata": {},
   "source": [
    "It works!\n",
    "\n",
    "Next: time this implementation and try to make it faster. \n",
    "\n",
    "Notice this implementation doesn't report errors for matrices that aren't of compatible size. \n",
    "\n",
    "I suppose we're not supposed to worry about that for now. "
   ]
  },
  {
   "cell_type": "code",
   "execution_count": 37,
   "id": "f522518a-b2cd-44cd-aff9-80fc3652850c",
   "metadata": {},
   "outputs": [
    {
     "name": "stdout",
     "output_type": "stream",
     "text": [
      "673 ms ± 39.7 ms per loop (mean ± std. dev. of 7 runs, 1 loop each)\n"
     ]
    }
   ],
   "source": [
    "%timeit _ = matmul(m1, weights)"
   ]
  },
  {
   "cell_type": "markdown",
   "id": "0b5c73e5-32dc-4a19-a93e-9e5cccc75795",
   "metadata": {},
   "source": [
    "This takes about 6/10s a second. "
   ]
  },
  {
   "cell_type": "code",
   "execution_count": 38,
   "id": "35b5840d-cfdd-4563-abe5-b664478c4738",
   "metadata": {},
   "outputs": [
    {
     "name": "stdout",
     "output_type": "stream",
     "text": [
      "The slowest run took 18.63 times longer than the fastest. This could mean that an intermediate result is being cached.\n",
      "17.1 µs ± 24 µs per loop (mean ± std. dev. of 7 runs, 50 loops each)\n"
     ]
    }
   ],
   "source": [
    "%timeit -n 50 _ = m1@weights"
   ]
  },
  {
   "cell_type": "markdown",
   "id": "d221dbb0-6186-4e8b-9c78-5f56349dd357",
   "metadata": {},
   "source": [
    "The Pytorch version takes four micro seconds. On to the next implementation. "
   ]
  },
  {
   "cell_type": "markdown",
   "id": "ec4f288b-2398-472f-bc9e-e1be0b843b2c",
   "metadata": {},
   "source": [
    "## Numba - Compiling python operations into C"
   ]
  },
  {
   "cell_type": "markdown",
   "id": "c7c5db28-8ac4-4d30-ad6e-a4a3a47edc20",
   "metadata": {},
   "source": [
    "The idea here is to take the code happening in the last part of the *for* loop and translate it into c code that will be executed faster by the CPU. The last part of the matmul code is the dot product"
   ]
  },
  {
   "cell_type": "code",
   "execution_count": 39,
   "id": "1c5ddd20-3814-4424-8850-540d1cf54217",
   "metadata": {},
   "outputs": [
    {
     "name": "stderr",
     "output_type": "stream",
     "text": [
      "/Library/Frameworks/Python.framework/Versions/3.9/lib/python3.9/site-packages/scipy/__init__.py:146: UserWarning: A NumPy version >=1.16.5 and <1.23.0 is required for this version of SciPy (detected version 1.26.4\n",
      "  warnings.warn(f\"A NumPy version >={np_minversion} and <{np_maxversion}\"\n"
     ]
    }
   ],
   "source": [
    "from numba import njit"
   ]
  },
  {
   "cell_type": "code",
   "execution_count": 40,
   "id": "89248798-590c-4e0b-808d-3dec473dc4c0",
   "metadata": {},
   "outputs": [],
   "source": [
    "@njit\n",
    "def dot(a,b):\n",
    "    res = 0\n",
    "    for i in range(len(a)):\n",
    "        res += a[i]*b[i]\n",
    "    return res"
   ]
  },
  {
   "cell_type": "code",
   "execution_count": 41,
   "id": "704d554d-e5b7-4ba6-a680-d81c0450e2ac",
   "metadata": {},
   "outputs": [],
   "source": [
    "from numpy import array"
   ]
  },
  {
   "cell_type": "code",
   "execution_count": 42,
   "id": "379c6c13-172c-44ff-8f6f-785df5945553",
   "metadata": {},
   "outputs": [
    {
     "name": "stdout",
     "output_type": "stream",
     "text": [
      "The slowest run took 10.00 times longer than the fastest. This could mean that an intermediate result is being cached.\n",
      "3.61 µs ± 4.8 µs per loop (mean ± std. dev. of 7 runs, 1 loop each)\n"
     ]
    }
   ],
   "source": [
    "%timeit dot(array([1.,2,3]),array([2.,3,4]))"
   ]
  },
  {
   "cell_type": "code",
   "execution_count": 43,
   "id": "14b7d4e2-42fd-41a1-9196-429e3dda2fb1",
   "metadata": {},
   "outputs": [],
   "source": [
    "def matmul(a,b):\n",
    "    \n",
    "    # deconstruct rows and columns of the two elements\n",
    "    ar, ac = a.shape\n",
    "    br, bc = b.shape\n",
    "\n",
    "    # create a blank tensor of correct size to put values into \n",
    "    prod = torch.zeros((ar,bc))\n",
    "\n",
    "    # loop through tensors to compute dot products\n",
    "    for i in range(ar): \n",
    "        for k in range(bc):\n",
    "                prod[i,k]+= dot(a[i,:], b[:,k])\n",
    "    return prod"
   ]
  },
  {
   "cell_type": "markdown",
   "id": "c912b6e6-e390-4cf2-878c-e39e30ffed2f",
   "metadata": {},
   "source": [
    "Apparently numba can't handle tensors."
   ]
  },
  {
   "cell_type": "code",
   "execution_count": 44,
   "id": "ad2111fe-c341-498a-87df-857b92b8d7a5",
   "metadata": {},
   "outputs": [
    {
     "data": {
      "text/plain": [
       "tensor([[ -4.5012999,   8.5535583,   5.6343098,  -6.6547408,   0.4884458,  -0.0259205, -15.6442547,  -1.5295603,  14.5241995,   9.7703285],\n",
       "        [-13.3018723,  -3.8748703,   4.1859426,   7.0025721,   2.1012926,   6.7689848,  -6.7711048,  -1.5963006,  -0.9763577,  12.6805420],\n",
       "        [ -6.5032082,  -8.1260672,   4.2241449,  -6.5425773, -11.3820400,   9.3289852, -21.8505344,  -0.3382134,   0.4697631,   8.9911814],\n",
       "        [ -8.9548664,  22.6745567,   0.2045113,  10.6219511,  -8.8288002,   4.8834972,  13.1432276,   4.6022367,  15.2992592,   5.9771380],\n",
       "        [-19.4157314,   5.0399828,  -2.1354804,  -3.2115545, -16.8263779,  11.2725430,   1.1869495,  -0.7416592,   7.4022536,   7.4249310]])"
      ]
     },
     "execution_count": 44,
     "metadata": {},
     "output_type": "execute_result"
    }
   ],
   "source": [
    "t1 = m1\n",
    "t2 = weights\n",
    "p = t1@t2\n",
    "p"
   ]
  },
  {
   "cell_type": "code",
   "execution_count": 45,
   "id": "13f3be54-0c3d-428b-a4d6-36bb827c2820",
   "metadata": {},
   "outputs": [
    {
     "data": {
      "text/plain": [
       "tensor([[ -4.5013008,   8.5535574,   5.6343107,  -6.6547399,   0.4884453,  -0.0259182, -15.6442537,  -1.5295594,  14.5241985,   9.7703276],\n",
       "        [-13.3018703,  -3.8748701,   4.1859431,   7.0025730,   2.1012928,   6.7689857,  -6.7711039,  -1.5963007,  -0.9763575,  12.6805429],\n",
       "        [ -6.5032072,  -8.1260691,   4.2241464,  -6.5425763, -11.3820391,   9.3289843, -21.8505344,  -0.3382128,   0.4697638,   8.9911814],\n",
       "        [ -8.9548655,  22.6745567,   0.2045128,  10.6219540,  -8.8288012,   4.8834977,  13.1432238,   4.6022372,  15.2992592,   5.9771371],\n",
       "        [-19.4157314,   5.0399828,  -2.1354818,  -3.2115545, -16.8263798,  11.2725439,   1.1869509,  -0.7416600,   7.4022532,   7.4249315]])"
      ]
     },
     "execution_count": 45,
     "metadata": {},
     "output_type": "execute_result"
    }
   ],
   "source": [
    "try: \n",
    "    t1 = t1.numpy()\n",
    "    t2 = t2.numpy()\n",
    "\n",
    "except:\n",
    "    \n",
    "    print('not tensors')\n",
    "\n",
    "p2 = matmul(t1,t2)\n",
    "p2"
   ]
  },
  {
   "cell_type": "code",
   "execution_count": 46,
   "id": "27bd895c-c275-42cc-9ceb-f0ebaafb34cf",
   "metadata": {},
   "outputs": [
    {
     "name": "stdout",
     "output_type": "stream",
     "text": [
      "974 µs ± 546 µs per loop (mean ± std. dev. of 7 runs, 50 loops each)\n"
     ]
    }
   ],
   "source": [
    "%timeit -n 50 _ = matmul(t1,t2)"
   ]
  },
  {
   "cell_type": "markdown",
   "id": "2d21a61a-6b49-4c4c-9671-5e3a612e0d18",
   "metadata": {},
   "source": [
    "With *just that one* change, we are now a 100x faster. 1 ms vs. 600. wow. "
   ]
  },
  {
   "cell_type": "markdown",
   "id": "24c1ffa0-ae87-4368-b7bf-5be3529487f3",
   "metadata": {},
   "source": [
    "## Elementwise Opps "
   ]
  },
  {
   "cell_type": "markdown",
   "id": "d97725e5-702f-428d-b363-996fc5fa0266",
   "metadata": {},
   "source": [
    "Here we're replacing the dot product with an element-wise operation"
   ]
  },
  {
   "cell_type": "code",
   "execution_count": 47,
   "id": "4ed244e2-27e8-47a4-aed3-00c08fe203ca",
   "metadata": {},
   "outputs": [],
   "source": [
    "def matmul(a,b):\n",
    "    \n",
    "    # deconstruct rows and columns of the two elements\n",
    "    ar, ac = a.shape\n",
    "    br, bc = b.shape\n",
    "\n",
    "    # create a blank tensor of correct size to put values into \n",
    "    prod = torch.zeros((ar,bc))\n",
    "\n",
    "    # loop through tensors to compute dot products\n",
    "    for i in range(ar): \n",
    "        for k in range(bc):\n",
    "                prod[i,k] = (a[i,:]*b[:,k]).sum()\n",
    "    return prod"
   ]
  },
  {
   "cell_type": "code",
   "execution_count": 48,
   "id": "8179f17e-834c-4119-b812-e7114a293f3a",
   "metadata": {},
   "outputs": [
    {
     "name": "stdout",
     "output_type": "stream",
     "text": [
      "1 ms ± 137 µs per loop (mean ± std. dev. of 7 runs, 50 loops each)\n"
     ]
    }
   ],
   "source": [
    "%timeit -n 50 _=matmul(m1,weights)"
   ]
  },
  {
   "cell_type": "markdown",
   "id": "fa847ace-3b0a-49df-8044-9c00f31e662c",
   "metadata": {},
   "source": [
    "This is **much faster** than the original, but *slightly* slower than numba"
   ]
  },
  {
   "cell_type": "markdown",
   "id": "72bff231-0001-4fb1-95ad-0eeb53ccfd13",
   "metadata": {},
   "source": [
    "## Broadcasting"
   ]
  },
  {
   "cell_type": "markdown",
   "id": "c2c37c88-c49d-45ea-bd9e-30b9ef4df4ba",
   "metadata": {},
   "source": [
    "Trying to grok *stride*"
   ]
  },
  {
   "cell_type": "code",
   "execution_count": 49,
   "id": "73e740bf-9a7a-42aa-8f4f-99745d57a705",
   "metadata": {},
   "outputs": [
    {
     "data": {
      "text/plain": [
       "tensor([[ 1.9269153,  1.4872841,  0.9007172,  ..., -1.6046669, -0.7521353,  1.6487230],\n",
       "        [-0.3924786, -1.4036071, -0.7278813,  ..., -0.1595975, -0.4973975,  0.4395893],\n",
       "        [-0.7581311,  1.0783176,  0.8008006,  ...,  1.3347378, -0.2316243,  0.0417595],\n",
       "        ...,\n",
       "        [-0.0559561, -0.4546973,  1.2942348,  ...,  1.1132715,  2.1900945,  0.3530664],\n",
       "        [ 0.4473948,  0.7191662, -1.9299877,  ..., -0.8713886,  0.2234731,  0.2528359],\n",
       "        [ 0.2168896,  0.4699849,  0.3267546,  ...,  0.0470233,  0.5487117, -1.9950601]])"
      ]
     },
     "execution_count": 49,
     "metadata": {},
     "output_type": "execute_result"
    }
   ],
   "source": [
    "weights"
   ]
  },
  {
   "cell_type": "code",
   "execution_count": 50,
   "id": "0815067b-ffa6-47b8-b1f2-6a104295f489",
   "metadata": {},
   "outputs": [
    {
     "data": {
      "text/plain": [
       "((10, 1), torch.Size([784, 10]))"
      ]
     },
     "execution_count": 50,
     "metadata": {},
     "output_type": "execute_result"
    }
   ],
   "source": [
    "weights.stride(), weights.shape"
   ]
  },
  {
   "cell_type": "code",
   "execution_count": 51,
   "id": "56cc78b7-0d83-4858-a86a-d176d25c8c22",
   "metadata": {},
   "outputs": [
    {
     "data": {
      "text/plain": [
       "tensor([[1., 2., 3.],\n",
       "        [4., 5., 6.],\n",
       "        [7., 8., 9.]])"
      ]
     },
     "execution_count": 51,
     "metadata": {},
     "output_type": "execute_result"
    }
   ],
   "source": [
    "m = tensor([[1., 2, 3], [4,5,6], [7,8,9]])\n",
    "m"
   ]
  },
  {
   "cell_type": "markdown",
   "id": "cbf05c5e-344a-4e02-b4af-09f7f8290e3d",
   "metadata": {},
   "source": [
    "This should have a stride of (3,1)"
   ]
  },
  {
   "cell_type": "code",
   "execution_count": 52,
   "id": "1d362236-bdae-4413-a614-d77df67b20ba",
   "metadata": {},
   "outputs": [
    {
     "data": {
      "text/plain": [
       "(3, 1)"
      ]
     },
     "execution_count": 52,
     "metadata": {},
     "output_type": "execute_result"
    }
   ],
   "source": [
    "m.stride()"
   ]
  },
  {
   "cell_type": "code",
   "execution_count": 53,
   "id": "fce4505e-9975-4e56-af9d-c3208b6793fe",
   "metadata": {},
   "outputs": [],
   "source": [
    "def matmul(a,b):\n",
    "    ar,ac = a.shape\n",
    "    br, bc = b.shape\n",
    "\n",
    "    c = torch.zeros(ar,bc)\n",
    "\n",
    "    for i in range(ar): \n",
    "        c[i] = (a[i,:,None]*b).sum(dim=0)\n",
    "\n",
    "    return c"
   ]
  },
  {
   "cell_type": "markdown",
   "id": "fb01f478-149d-4d70-9983-08d7d7a2660f",
   "metadata": {},
   "source": [
    "I'm confused why the none needs to go here"
   ]
  },
  {
   "cell_type": "code",
   "execution_count": 54,
   "id": "c800579c-b76f-4a9a-a7cf-32386966ee0a",
   "metadata": {},
   "outputs": [
    {
     "data": {
      "text/plain": [
       "(torch.Size([784]), torch.Size([784, 10]))"
      ]
     },
     "execution_count": 54,
     "metadata": {},
     "output_type": "execute_result"
    }
   ],
   "source": [
    "m1[1,:].shape, weights.shape"
   ]
  },
  {
   "cell_type": "code",
   "execution_count": 55,
   "id": "f7b5a91e-1603-4ea8-999f-ef0adad6db4e",
   "metadata": {},
   "outputs": [
    {
     "data": {
      "text/plain": [
       "tensor([[ -4.5013008,   8.5535574,   5.6343107,  -6.6547394,   0.4884448,  -0.0259187, -15.6442528,  -1.5295591,  14.5241985,   9.7703285],\n",
       "        [-13.3018723,  -3.8748713,   4.1859436,   7.0025716,   2.1012931,   6.7689867,  -6.7711039,  -1.5963008,  -0.9763570,  12.6805429],\n",
       "        [ -6.5032072,  -8.1260691,   4.2241464,  -6.5425758, -11.3820400,   9.3289852, -21.8505325,  -0.3382132,   0.4697628,   8.9911814],\n",
       "        [ -8.9548655,  22.6745567,   0.2045126,  10.6219540,  -8.8288012,   4.8834977,  13.1432238,   4.6022367,  15.2992592,   5.9771371],\n",
       "        [-19.4157314,   5.0399828,  -2.1354823,  -3.2115543, -16.8263798,  11.2725439,   1.1869512,  -0.7416601,   7.4022532,   7.4249306]])"
      ]
     },
     "execution_count": 55,
     "metadata": {},
     "output_type": "execute_result"
    }
   ],
   "source": [
    "tns = matmul(m1, weights)\n",
    "tns"
   ]
  },
  {
   "cell_type": "code",
   "execution_count": 56,
   "id": "1218b59d-b954-4b01-bbe8-15a239d761f3",
   "metadata": {},
   "outputs": [
    {
     "data": {
      "text/plain": [
       "tensor([[ -4.5012999,   8.5535583,   5.6343098,  -6.6547408,   0.4884458,  -0.0259205, -15.6442547,  -1.5295603,  14.5241995,   9.7703285],\n",
       "        [-13.3018723,  -3.8748703,   4.1859426,   7.0025721,   2.1012926,   6.7689848,  -6.7711048,  -1.5963006,  -0.9763577,  12.6805420],\n",
       "        [ -6.5032082,  -8.1260672,   4.2241449,  -6.5425773, -11.3820400,   9.3289852, -21.8505344,  -0.3382134,   0.4697631,   8.9911814],\n",
       "        [ -8.9548664,  22.6745567,   0.2045113,  10.6219511,  -8.8288002,   4.8834972,  13.1432276,   4.6022367,  15.2992592,   5.9771380],\n",
       "        [-19.4157314,   5.0399828,  -2.1354804,  -3.2115545, -16.8263779,  11.2725430,   1.1869495,  -0.7416592,   7.4022536,   7.4249310]])"
      ]
     },
     "execution_count": 56,
     "metadata": {},
     "output_type": "execute_result"
    }
   ],
   "source": [
    "m1@weights"
   ]
  },
  {
   "cell_type": "markdown",
   "id": "c9acc04a-9dcf-4191-9848-530731bb4c69",
   "metadata": {},
   "source": [
    "Nice! "
   ]
  },
  {
   "cell_type": "code",
   "execution_count": 57,
   "id": "b1499163-d818-435a-ae5a-5f225ca3be94",
   "metadata": {},
   "outputs": [
    {
     "name": "stdout",
     "output_type": "stream",
     "text": [
      "173 µs ± 105 µs per loop (mean ± std. dev. of 7 runs, 50 loops each)\n"
     ]
    }
   ],
   "source": [
    "%timeit -n 50 _=matmul(m1,weights)"
   ]
  },
  {
   "cell_type": "markdown",
   "id": "c93dae92-1c6c-4994-b271-c634415153bb",
   "metadata": {},
   "source": [
    "Nice! .0003 seconds! "
   ]
  },
  {
   "cell_type": "markdown",
   "id": "6f72c951-26a0-4139-9ebe-b851e6e5f5aa",
   "metadata": {},
   "source": [
    "## Einstein Summation"
   ]
  },
  {
   "cell_type": "markdown",
   "id": "47424e39-8b8a-4321-80c3-113029d788e5",
   "metadata": {},
   "source": [
    "Einstein summation (einsum) is a compact representation for combining products and sums in a general way. The key rules are:\n",
    "\n",
    "* Repeating letters between input arrays means that values along those axes will be multiplied together.\n",
    "* Omitting a letter from the output means that values along that axis will be summed."
   ]
  },
  {
   "cell_type": "code",
   "execution_count": 58,
   "id": "40242aa9-17c5-4f28-9c34-3be3673037ff",
   "metadata": {},
   "outputs": [],
   "source": [
    "m2 = weights"
   ]
  },
  {
   "cell_type": "code",
   "execution_count": 60,
   "id": "3f023dc8-df01-44a1-accb-ead222bfe50a",
   "metadata": {},
   "outputs": [
    {
     "data": {
      "text/plain": [
       "(torch.Size([5, 784]), torch.Size([784, 10]))"
      ]
     },
     "execution_count": 60,
     "metadata": {},
     "output_type": "execute_result"
    }
   ],
   "source": [
    "m1.shape, m2.shape"
   ]
  },
  {
   "cell_type": "code",
   "execution_count": 63,
   "id": "536dc84a-66a0-4578-a447-c917248bed50",
   "metadata": {},
   "outputs": [
    {
     "data": {
      "text/plain": [
       "torch.Size([5, 784, 10])"
      ]
     },
     "execution_count": 63,
     "metadata": {},
     "output_type": "execute_result"
    }
   ],
   "source": [
    "# c[i,j] += a[i,k] * b[k,j]\n",
    "# c[i,j] = (a[i,:] * b[:,j]).sum()\n",
    "mr = torch.einsum('ik,kj->ikj', m1, m2)\n",
    "mr.shape"
   ]
  },
  {
   "cell_type": "code",
   "execution_count": 66,
   "id": "76944b6b-7b2f-46c3-a5fc-9e5c275a3e7a",
   "metadata": {},
   "outputs": [
    {
     "data": {
      "text/plain": [
       "tensor([[ -4.5013008,   8.5535574,   5.6343107,  -6.6547394,   0.4884448,  -0.0259187, -15.6442528,  -1.5295591,  14.5241985,   9.7703285],\n",
       "        [-13.3018723,  -3.8748713,   4.1859436,   7.0025716,   2.1012931,   6.7689867,  -6.7711039,  -1.5963008,  -0.9763570,  12.6805429],\n",
       "        [ -6.5032072,  -8.1260691,   4.2241464,  -6.5425758, -11.3820400,   9.3289852, -21.8505325,  -0.3382132,   0.4697628,   8.9911814],\n",
       "        [ -8.9548655,  22.6745567,   0.2045126,  10.6219540,  -8.8288012,   4.8834977,  13.1432238,   4.6022367,  15.2992592,   5.9771371],\n",
       "        [-19.4157314,   5.0399828,  -2.1354823,  -3.2115543, -16.8263798,  11.2725439,   1.1869512,  -0.7416601,   7.4022532,   7.4249306]])"
      ]
     },
     "execution_count": 66,
     "metadata": {},
     "output_type": "execute_result"
    }
   ],
   "source": [
    "mr.sum(1)"
   ]
  },
  {
   "cell_type": "code",
   "execution_count": 67,
   "id": "02d5cb88-ba28-4b2a-a3e3-256f6bbae9ef",
   "metadata": {},
   "outputs": [
    {
     "data": {
      "text/plain": [
       "tensor([[ -4.5012999,   8.5535583,   5.6343098,  -6.6547408,   0.4884458,  -0.0259205, -15.6442547,  -1.5295603,  14.5241995,   9.7703285],\n",
       "        [-13.3018723,  -3.8748703,   4.1859426,   7.0025721,   2.1012926,   6.7689848,  -6.7711048,  -1.5963006,  -0.9763577,  12.6805420],\n",
       "        [ -6.5032082,  -8.1260672,   4.2241449,  -6.5425773, -11.3820400,   9.3289852, -21.8505344,  -0.3382134,   0.4697631,   8.9911814],\n",
       "        [ -8.9548664,  22.6745567,   0.2045113,  10.6219511,  -8.8288002,   4.8834972,  13.1432276,   4.6022367,  15.2992592,   5.9771380],\n",
       "        [-19.4157314,   5.0399828,  -2.1354804,  -3.2115545, -16.8263779,  11.2725430,   1.1869495,  -0.7416592,   7.4022536,   7.4249310]])"
      ]
     },
     "execution_count": 67,
     "metadata": {},
     "output_type": "execute_result"
    }
   ],
   "source": [
    "mr = torch.einsum('ik,kj-> ij', m1,m2)\n",
    "mr"
   ]
  },
  {
   "cell_type": "code",
   "execution_count": 76,
   "id": "c5989d07-010e-4aa0-8728-715c64107bcb",
   "metadata": {},
   "outputs": [],
   "source": [
    "def matmul(a,b): return torch.einsum('ik, kj-> ij', a,b)"
   ]
  },
  {
   "cell_type": "code",
   "execution_count": 77,
   "id": "ce3f73a8-d200-4814-848a-610a53fb1f5e",
   "metadata": {},
   "outputs": [],
   "source": [
    "product = matmul(m1,m2)"
   ]
  },
  {
   "cell_type": "code",
   "execution_count": 78,
   "id": "e946cc03-1295-47f1-80bf-2bdd25a7e547",
   "metadata": {},
   "outputs": [
    {
     "data": {
      "text/plain": [
       "tensor([[ -4.5012999,   8.5535583,   5.6343098,  -6.6547408,   0.4884458,  -0.0259205, -15.6442547,  -1.5295603,  14.5241995,   9.7703285],\n",
       "        [-13.3018723,  -3.8748703,   4.1859426,   7.0025721,   2.1012926,   6.7689848,  -6.7711048,  -1.5963006,  -0.9763577,  12.6805420],\n",
       "        [ -6.5032082,  -8.1260672,   4.2241449,  -6.5425773, -11.3820400,   9.3289852, -21.8505344,  -0.3382134,   0.4697631,   8.9911814],\n",
       "        [ -8.9548664,  22.6745567,   0.2045113,  10.6219511,  -8.8288002,   4.8834972,  13.1432276,   4.6022367,  15.2992592,   5.9771380],\n",
       "        [-19.4157314,   5.0399828,  -2.1354804,  -3.2115545, -16.8263779,  11.2725430,   1.1869495,  -0.7416592,   7.4022536,   7.4249310]])"
      ]
     },
     "execution_count": 78,
     "metadata": {},
     "output_type": "execute_result"
    }
   ],
   "source": [
    "product"
   ]
  },
  {
   "cell_type": "code",
   "execution_count": 79,
   "id": "afe96e66-075d-46e2-8a52-a24a190b7ac4",
   "metadata": {},
   "outputs": [
    {
     "name": "stdout",
     "output_type": "stream",
     "text": [
      "45.1 µs ± 20.1 µs per loop (mean ± std. dev. of 7 runs, 50 loops each)\n"
     ]
    }
   ],
   "source": [
    "%timeit -n 50 _=matmul(m1,m2)"
   ]
  },
  {
   "cell_type": "markdown",
   "id": "47ef7212-7078-46bb-b41b-8aacc61a106d",
   "metadata": {},
   "source": [
    "Even faster than broadcasting! we can do the whole thing now"
   ]
  },
  {
   "cell_type": "code",
   "execution_count": 80,
   "id": "94e7c557-9e21-4f4c-9d40-ec11ebb14d35",
   "metadata": {},
   "outputs": [
    {
     "name": "stdout",
     "output_type": "stream",
     "text": [
      "9.32 ms ± 2.31 ms per loop (mean ± std. dev. of 7 runs, 5 loops each)\n"
     ]
    }
   ],
   "source": [
    "%timeit -n 5 _= matmul(x_train, weights)"
   ]
  },
  {
   "cell_type": "code",
   "execution_count": 81,
   "id": "b02fc17a-2d4c-4182-85b2-cb7f02e41864",
   "metadata": {},
   "outputs": [
    {
     "name": "stdout",
     "output_type": "stream",
     "text": [
      "8.38 ms ± 1.97 ms per loop (mean ± std. dev. of 7 runs, 5 loops each)\n"
     ]
    }
   ],
   "source": [
    "%timeit -n 5 _=x_train@weights"
   ]
  }
 ],
 "metadata": {
  "kernelspec": {
   "display_name": "Python 3 (ipykernel)",
   "language": "python",
   "name": "python3"
  },
  "language_info": {
   "codemirror_mode": {
    "name": "ipython",
    "version": 3
   },
   "file_extension": ".py",
   "mimetype": "text/x-python",
   "name": "python",
   "nbconvert_exporter": "python",
   "pygments_lexer": "ipython3",
   "version": "3.9.0"
  }
 },
 "nbformat": 4,
 "nbformat_minor": 5
}
